{
 "cells": [
  {
   "cell_type": "markdown",
   "metadata": {
    "id": "t72p7Wvp8fKU"
   },
   "source": [
    "# Introduction\n",
    "\n",
    "In this notebook we'll learn how to use NumPy to work with numerical data. \n",
    "\n",
    "<img src=\"https://i.imgur.com/dZ1XE9o.png\" width=400>"
   ]
  },
  {
   "cell_type": "markdown",
   "metadata": {
    "id": "3j24xcmN8s1a"
   },
   "source": [
    "# Import Statements"
   ]
  },
  {
   "cell_type": "code",
   "execution_count": 125,
   "metadata": {
    "id": "b9YJCGC_8mhB"
   },
   "outputs": [],
   "source": [
    "import numpy as np\n",
    "from numpy.random import random\n",
    "\n",
    "import matplotlib.pyplot as plt\n",
    "from scipy import misc # contains an image of a racoon!\n",
    "from PIL import Image # for reading image files"
   ]
  },
  {
   "cell_type": "markdown",
   "metadata": {
    "id": "8vsW1z6o9RWD"
   },
   "source": [
    "# Understanding NumPy's ndarray\n",
    "\n",
    "NumPy's most amazing feature is the **powerful** ndarray.\n",
    "\n",
    "<img src=\"https://i.imgur.com/1IUqnxX.png\" width=200>"
   ]
  },
  {
   "cell_type": "markdown",
   "metadata": {
    "id": "d5g_jUKBAILK"
   },
   "source": [
    "#### 1-Dimensional Arrays (Vectors)"
   ]
  },
  {
   "cell_type": "code",
   "execution_count": 5,
   "metadata": {
    "id": "ITaA6vmejMNF"
   },
   "outputs": [],
   "source": [
    "# Creeeate new ndarray from scratch\n",
    "my_array = np.array([1.1, 9.2, 8.1, 4.7])"
   ]
  },
  {
   "cell_type": "code",
   "execution_count": 9,
   "metadata": {
    "id": "Tq5KrExnjNn0"
   },
   "outputs": [
    {
     "name": "stdout",
     "output_type": "stream",
     "text": [
      "(4,)\n",
      "8.1\n",
      "1\n"
     ]
    }
   ],
   "source": [
    "# Show rows and columns\n",
    "print(my_array.shape)\n",
    "\n",
    "# Accessing element by index\n",
    "print(my_array[2])\n",
    "\n",
    "#Show dimensin of an array\n",
    "print(my_array.ndim)"
   ]
  },
  {
   "cell_type": "markdown",
   "metadata": {
    "id": "nZ8D4yr8ALzn"
   },
   "source": [
    "#### 2-Dimensional Arrays (Matrices)"
   ]
  },
  {
   "cell_type": "code",
   "execution_count": 10,
   "metadata": {
    "id": "97iTilPTAGpm"
   },
   "outputs": [],
   "source": [
    "array_2d = np.array([[1, 2, 3, 9], \n",
    "                     [5, 6, 7, 8]])"
   ]
  },
  {
   "cell_type": "code",
   "execution_count": 14,
   "metadata": {
    "id": "885B89_IjFWr"
   },
   "outputs": [
    {
     "name": "stdout",
     "output_type": "stream",
     "text": [
      "array_2d has 2 dimensions\n",
      "Its shape is: (2, 4)\n",
      "It has 2 rows and 4 columns\n",
      "[[1 2 3 9]\n",
      " [5 6 7 8]]\n",
      "7\n",
      "[1 2 3 9]\n"
     ]
    }
   ],
   "source": [
    "print(f\"array_2d has {array_2d.ndim} dimensions\")\n",
    "print(f\"Its shape is: {array_2d.shape}\")\n",
    "print(f\"It has {array_2d.shape[0]} rows and {array_2d.shape[1]} columns\")\n",
    "print(array_2d)\n",
    "\n",
    "# Access to a particular value (3rd value in 2nd row)\n",
    "print(array_2d[1,2])\n",
    "\n",
    "# Access to a particular row (all the values in the first row)\n",
    "print(array_2d[0,:])"
   ]
  },
  {
   "cell_type": "markdown",
   "metadata": {
    "id": "IxEF8DdRBHn5"
   },
   "source": [
    "#### N-Dimensional Arrays (Tensors)\n",
    "\n",
    "**Challenge**: \n",
    "* How many dimensions does the array below have? \n",
    "* What is its shape (i.e., how many elements are along each axis)?\n",
    "* Try to access the value `18` in the last line of code.\n",
    "* Try to retrieve a 1 dimensional vector with the values `[97, 0, 27, 18]`\n",
    "* Try to retrieve a (3,2) matrix with the values `[[ 0,  4], [ 7,  5], [ 5, 97]]`\n",
    "\n",
    "*Hint*: You can use the `:` operator just as with Python Lists."
   ]
  },
  {
   "cell_type": "code",
   "execution_count": 16,
   "metadata": {
    "id": "2ROMzYaxAgXC"
   },
   "outputs": [],
   "source": [
    "mystery_array = np.array([[[0, 1, 2, 3],\n",
    "                           [4, 5, 6, 7]],\n",
    "                        \n",
    "                         [[7, 86, 6, 98],\n",
    "                          [5, 1, 0, 4]],\n",
    "                          \n",
    "                          [[5, 36, 32, 48],\n",
    "                           [97, 0, 27, 18]]])\n",
    "\n",
    "# Note all the square brackets!"
   ]
  },
  {
   "cell_type": "code",
   "execution_count": 19,
   "metadata": {
    "id": "s3-I3tYSjC1R"
   },
   "outputs": [
    {
     "name": "stdout",
     "output_type": "stream",
     "text": [
      "The array has 3 dimensions\n"
     ]
    }
   ],
   "source": [
    "print(f\"The array has {mystery_array.ndim} dimensions\")"
   ]
  },
  {
   "cell_type": "code",
   "execution_count": 21,
   "metadata": {
    "id": "AvUs5gRPjDIT"
   },
   "outputs": [
    {
     "name": "stdout",
     "output_type": "stream",
     "text": [
      "This is his shape: {(3, 2, 4)}\n"
     ]
    }
   ],
   "source": [
    "shape = {mystery_array.shape}\n",
    "print(f\"This is his shape: {shape}\")"
   ]
  },
  {
   "cell_type": "code",
   "execution_count": 30,
   "metadata": {
    "id": "G3Ek8nDTjCvn"
   },
   "outputs": [
    {
     "name": "stdout",
     "output_type": "stream",
     "text": [
      "So we have 3 elements alon g the axis #0, 2 elements along the axis #1 and 4 elements along the axis #2\n"
     ]
    }
   ],
   "source": [
    "shape_list = list(shape)[0]\n",
    "print(f\"So we have {shape_list[0]} elements alon g the axis #0, {shape_list[1]} elements along the axis #1 and {shape_list[2]} elements along the axis #2\")"
   ]
  },
  {
   "cell_type": "code",
   "execution_count": 32,
   "metadata": {
    "id": "1SeRB6MejAbc"
   },
   "outputs": [
    {
     "name": "stdout",
     "output_type": "stream",
     "text": [
      "To access 18 we can do: 18\n"
     ]
    }
   ],
   "source": [
    "print(f\"To access 18 we can do: {mystery_array[2][1][3]}\")"
   ]
  },
  {
   "cell_type": "code",
   "execution_count": 96,
   "metadata": {},
   "outputs": [
    {
     "name": "stdout",
     "output_type": "stream",
     "text": [
      "To access [97, 0, 27, 18] we can do: [97  0 27 18]\n"
     ]
    }
   ],
   "source": [
    "print(f\"To access [97, 0, 27, 18] we can do: {mystery_array[2][1][:]}\")"
   ]
  },
  {
   "cell_type": "code",
   "execution_count": 65,
   "metadata": {},
   "outputs": [
    {
     "name": "stdout",
     "output_type": "stream",
     "text": [
      "To retrieve a (3,2) matrix with the values [[0,  4], [ 7,  5], [ 5, 97]] we can do:\n",
      " [[ 0  4]\n",
      " [ 7  5]\n",
      " [ 5 97]]\n"
     ]
    }
   ],
   "source": [
    "print(f\"To retrieve a (3,2) matrix with the values [[0,  4], [ 7,  5], [ 5, 97]] we can do:\\n {mystery_array[:,:, 0]}\")"
   ]
  },
  {
   "cell_type": "markdown",
   "metadata": {
    "id": "xTclC9QMWaL3"
   },
   "source": [
    "# NumPy Mini-Challenges"
   ]
  },
  {
   "cell_type": "markdown",
   "metadata": {
    "id": "D5jAqudtWeTN"
   },
   "source": [
    "#### **Challenge 1**: Use [`.arange()`](https://numpy.org/devdocs/reference/generated/numpy.arange.html)to createa a vector `a` with values ranging from 10 to 29. You should get this:\n",
    "\n",
    "`print(a)`\n",
    "\n",
    "`[10 11 12 13 14 15 16 17 18 19 20 21 22 23 24 25 26 27 28 29]`"
   ]
  },
  {
   "cell_type": "code",
   "execution_count": 71,
   "metadata": {
    "id": "1bxtrVjJi83g"
   },
   "outputs": [
    {
     "name": "stdout",
     "output_type": "stream",
     "text": [
      "[10 11 12 13 14 15 16 17 18 19 20 21 22 23 24 25 26 27 28 29]\n"
     ]
    }
   ],
   "source": [
    "a = np.arange(10, 30)\n",
    "print(a)"
   ]
  },
  {
   "cell_type": "markdown",
   "metadata": {
    "id": "duI_CwC5XmF_"
   },
   "source": [
    "#### **Challenge 2**: Use Python slicing techniques on `a` to:\n",
    "* Create an array containing only the last 3 values of `a`\n",
    "* Create a subset with only the 4th, 5th, and 6th values\n",
    "* Create a subset of `a` containing all the values except for the first 12 (i.e., `[22, 23, 24, 25, 26, 27, 28, 29]`)\n",
    "* Create a subset that only contains the even numbers (i.e, every second number)"
   ]
  },
  {
   "cell_type": "code",
   "execution_count": 82,
   "metadata": {
    "id": "oR2l2HMGi6mS"
   },
   "outputs": [
    {
     "name": "stdout",
     "output_type": "stream",
     "text": [
      "Array containing only the last 3 values of a [27 28 29]\n",
      "Subset with only the 4th, 5th, and 6th values [13 14 15]\n",
      "Subset of a containing all the values except for the first 12 [22 23 24 25 26 27 28 29]\n",
      "Subset that only contains the even numbers (i.e, every second number) [10 12 14 16 18 20 22 24 26 28]\n"
     ]
    }
   ],
   "source": [
    "print(f\"Array containing only the last 3 values of a {a[-3:]}\")\n",
    "print(f\"Subset with only the 4th, 5th, and 6th values {a[3:6]}\")\n",
    "print(f\"Subset of a containing all the values except for the first 12 {a[12:]}\")\n",
    "print(f\"Subset that only contains the even numbers (i.e, every second number) {a[::2]}\")"
   ]
  },
  {
   "cell_type": "markdown",
   "metadata": {
    "id": "G7UMQZjiYBjS"
   },
   "source": [
    "#### **Challenge 3**:Reverse the order of the values in `a`, so that the first element comes last:\n",
    "\n",
    "`[29, 28, 27, 26, 25, 24, 23, 22, 21, 20, 19, 18, 17, 16, 15, 14, 13,\n",
    "       12, 11, 10]`\n",
    "\n",
    "\n",
    "If you need a hint, you can check out this part of the [NumPy beginner's guide](\n",
    "https://numpy.org/devdocs/user/absolute_beginners.html#how-to-reverse-an-array)"
   ]
  },
  {
   "cell_type": "code",
   "execution_count": 86,
   "metadata": {
    "id": "nGmDLPK6i4Nk"
   },
   "outputs": [
    {
     "name": "stdout",
     "output_type": "stream",
     "text": [
      "[29 28 27 26 25 24 23 22 21 20 19 18 17 16 15 14 13 12 11 10]\n"
     ]
    }
   ],
   "source": [
    "reversed_a = np.flip(a)\n",
    "print(reversed_a)"
   ]
  },
  {
   "cell_type": "markdown",
   "metadata": {
    "id": "WBJJbWjKfULr"
   },
   "source": [
    "#### **Challenge 4**: Print out all the indices of the non-zero elements in this array: [6,0,9,0,0,5,0]"
   ]
  },
  {
   "cell_type": "code",
   "execution_count": 89,
   "metadata": {
    "id": "0J0gmKqsi25-"
   },
   "outputs": [
    {
     "name": "stdout",
     "output_type": "stream",
     "text": [
      "[array([0, 2, 5], dtype=int64)]\n"
     ]
    }
   ],
   "source": [
    "array = [6,0,9,0,0,5,0]\n",
    "nz_indices = list(np.nonzero(array))\n",
    "print(nz_indices)"
   ]
  },
  {
   "cell_type": "markdown",
   "metadata": {
    "id": "LxorfXnOffUw"
   },
   "source": [
    "#### **Challenge 5**: Use NumPy to generate a 3x3x3 array with random numbers\n",
    "\n",
    "Hint: Use the [`.random()` function](https://numpy.org/doc/stable/reference/random/index.html?highlight=random#module-numpy.random)"
   ]
  },
  {
   "cell_type": "code",
   "execution_count": 131,
   "metadata": {
    "id": "2gIg5UsYi1CC"
   },
   "outputs": [
    {
     "name": "stdout",
     "output_type": "stream",
     "text": [
      "[[[0.09661834 0.7755992  0.85160559]\n",
      "  [0.11725778 0.79623009 0.44724864]\n",
      "  [0.26425295 0.59777504 0.00544779]]\n",
      "\n",
      " [[0.64522008 0.88211573 0.08737964]\n",
      "  [0.30647701 0.35011437 0.08264504]\n",
      "  [0.18101809 0.93838863 0.53367617]]\n",
      "\n",
      " [[0.88840046 0.86049732 0.35864011]\n",
      "  [0.35127069 0.28447293 0.35715106]\n",
      "  [0.29874401 0.90466278 0.42560951]]]\n"
     ]
    }
   ],
   "source": [
    "x = random((3, 3, 3))\n",
    "print(x)"
   ]
  },
  {
   "cell_type": "markdown",
   "metadata": {
    "id": "ps1d14z7ovv1"
   },
   "source": [
    "#### **Challenge 6**: Use [`.linspace()`](https://numpy.org/doc/stable/reference/generated/numpy.linspace.html) to create a vector `x` of size 9 with values spaced out evenly between 0 to 100 (both included)."
   ]
  },
  {
   "cell_type": "code",
   "execution_count": 133,
   "metadata": {
    "id": "SB2lUDTBizzk"
   },
   "outputs": [
    {
     "name": "stdout",
     "output_type": "stream",
     "text": [
      "[  0.   12.5  25.   37.5  50.   62.5  75.   87.5 100. ]\n"
     ]
    }
   ],
   "source": [
    "x = np.linspace(0, 100, num=9)\n",
    "print(x)"
   ]
  },
  {
   "cell_type": "markdown",
   "metadata": {
    "id": "GCSPVde3f0kE"
   },
   "source": [
    "#### **Challenge 7**: Use [`.linspace()`](https://numpy.org/doc/stable/reference/generated/numpy.linspace.html) to create another vector `y` of size 9 with values between -3 to 3 (both included). Then plot `x` and `y` on a line chart using Matplotlib."
   ]
  },
  {
   "cell_type": "code",
   "execution_count": 138,
   "metadata": {
    "id": "cIu8HlJFiyF9"
   },
   "outputs": [
    {
     "name": "stdout",
     "output_type": "stream",
     "text": [
      "[-3.   -2.25 -1.5  -0.75  0.    0.75  1.5   2.25  3.  ]\n"
     ]
    }
   ],
   "source": [
    "y = np.linspace(-3, 3, num=9)\n",
    "print(y)"
   ]
  },
  {
   "cell_type": "code",
   "execution_count": 141,
   "metadata": {},
   "outputs": [
    {
     "data": {
      "text/plain": [
       "[<matplotlib.lines.Line2D object at 0x000001C1F7F3DD90>]"
      ]
     },
     "execution_count": 141,
     "metadata": {},
     "output_type": "execute_result"
    },
    {
     "data": {
      "image/png": "[encoded data removed]",
      "text/plain": [
       "<Figure size 640x480 with 1 Axes>"
      ]
     },
     "metadata": {},
     "output_type": "display_data"
    }
   ],
   "source": [
    "plt.plot(x, y)"
   ]
  },
  {
   "cell_type": "markdown",
   "metadata": {
    "id": "Wt5aIGQLlz5i"
   },
   "source": [
    "#### **Challenge 8**: Use NumPy to generate an array called `noise` with shape 128x128x3 that has random values. Then use Matplotlib's [`.imshow()`](https://matplotlib.org/3.1.1/api/_as_gen/matplotlib.pyplot.imshow.html) to display the array as an image. "
   ]
  },
  {
   "cell_type": "code",
   "execution_count": 143,
   "metadata": {
    "id": "_LSYx_fliwrw"
   },
   "outputs": [
    {
     "name": "stdout",
     "output_type": "stream",
     "text": [
      "[[[0.05808343 0.63637193 0.66956339]\n",
      "  [0.92909654 0.85923347 0.74294007]\n",
      "  [0.4213242  0.06653614 0.23842449]\n",
      "  ...\n",
      "  [0.70774438 0.40739946 0.16627103]\n",
      "  [0.29211508 0.177094   0.47324465]\n",
      "  [0.5659662  0.79237263 0.01552618]]\n",
      "\n",
      " [[0.34367838 0.01059043 0.07996545]\n",
      "  [0.28911167 0.24338637 0.18313993]\n",
      "  [0.19707531 0.08000216 0.35085534]\n",
      "  ...\n",
      "  [0.83511128 0.11985531 0.877919  ]\n",
      "  [0.56436853 0.73481798 0.64706035]\n",
      "  [0.52985756 0.07006372 0.41919416]]\n",
      "\n",
      " [[0.8260882  0.07080726 0.44286286]\n",
      "  [0.37763588 0.93651296 0.34718749]\n",
      "  [0.17140228 0.42157783 0.81986441]\n",
      "  ...\n",
      "  [0.37771083 0.75910121 0.29729429]\n",
      "  [0.12894964 0.06865138 0.81648345]\n",
      "  [0.80021183 0.109348   0.22429584]]\n",
      "\n",
      " ...\n",
      "\n",
      " [[0.54209179 0.61441846 0.60343033]\n",
      "  [0.48336207 0.58201925 0.64631116]\n",
      "  [0.45874873 0.64878469 0.68677389]\n",
      "  ...\n",
      "  [0.50498691 0.63670386 0.66128304]\n",
      "  [0.99614537 0.4903289  0.58465237]\n",
      "  [0.87273436 0.81965964 0.96057783]]\n",
      "\n",
      " [[0.98240766 0.06414207 0.55561562]\n",
      "  [0.15444355 0.87293203 0.06252356]\n",
      "  [0.62618757 0.32462874 0.32600733]\n",
      "  ...\n",
      "  [0.28101138 0.65774267 0.15498085]\n",
      "  [0.223809   0.86052133 0.46841618]\n",
      "  [0.09178589 0.06684287 0.11527903]]\n",
      "\n",
      " [[0.37755981 0.88278787 0.45456389]\n",
      "  [0.31296379 0.96744408 0.36815432]\n",
      "  [0.56258067 0.59279302 0.14080055]\n",
      "  ...\n",
      "  [0.1274351  0.39826653 0.48678643]\n",
      "  [0.70630159 0.67744582 0.48489644]\n",
      "  [0.93819804 0.14630391 0.67955717]]]\n"
     ]
    }
   ],
   "source": [
    "noise = np.random.rand(128, 128, 3)\n",
    "print(noise)"
   ]
  },
  {
   "cell_type": "markdown",
   "metadata": {
    "id": "-O2acBSNX4o8"
   },
   "source": [
    "# Linear Algebra with Vectors"
   ]
  },
  {
   "cell_type": "code",
   "execution_count": 4,
   "metadata": {
    "id": "GbSwkEwHX9lb"
   },
   "outputs": [],
   "source": [
    "v1 = np.array([4, 5, 2, 7])\n",
    "v2 = np.array([2, 1, 3, 3])"
   ]
  },
  {
   "cell_type": "code",
   "execution_count": 5,
   "metadata": {
    "id": "vPa5kK-6fz1v"
   },
   "outputs": [],
   "source": [
    "# Python Lists vs ndarrays\n",
    "list1 = [4, 5, 2, 7]\n",
    "list2 = [2, 1, 3, 3]"
   ]
  },
  {
   "cell_type": "code",
   "execution_count": 5,
   "metadata": {
    "id": "DfPCOJqBiugK"
   },
   "outputs": [],
   "source": []
  },
  {
   "cell_type": "code",
   "execution_count": 5,
   "metadata": {
    "id": "AYNctOyniucr"
   },
   "outputs": [],
   "source": []
  },
  {
   "cell_type": "markdown",
   "metadata": {
    "id": "5lOo-ucJUhGx"
   },
   "source": [
    "# Broadcasting and Scalars\n"
   ]
  },
  {
   "cell_type": "code",
   "execution_count": 5,
   "metadata": {
    "id": "E_ooq80ziprz"
   },
   "outputs": [],
   "source": []
  },
  {
   "cell_type": "code",
   "execution_count": 5,
   "metadata": {
    "id": "gya2xlxxipoi"
   },
   "outputs": [],
   "source": []
  },
  {
   "cell_type": "code",
   "execution_count": 5,
   "metadata": {
    "id": "Lhmedp3Qil5I"
   },
   "outputs": [],
   "source": []
  },
  {
   "cell_type": "markdown",
   "metadata": {
    "id": "hVQLR4KamAFi"
   },
   "source": [
    "# Matrix Multiplication with @ and .matmul()\n",
    "\n",
    "<img src=https://i.imgur.com/LCdhmi8.png width=350>"
   ]
  },
  {
   "cell_type": "code",
   "execution_count": 6,
   "metadata": {
    "colab": {
     "base_uri": "https://localhost:8080/",
     "height": 68
    },
    "id": "8oeSWT7fk7u5",
    "outputId": "dff8c9eb-23ba-41d6-c9e6-c62158c9f178"
   },
   "outputs": [
    {
     "name": "stdout",
     "output_type": "stream",
     "text": [
      "(4, 2): a has 4 rows and 2 columns.\n",
      "(2, 3): b has 2 rows and 3 columns.\n",
      "Dimensions of result: (4x2)*(2x3)=(4x3)\n"
     ]
    }
   ],
   "source": [
    "a1 = np.array([[1, 3],\n",
    "               [0, 1],\n",
    "               [6, 2],\n",
    "               [9, 7]])\n",
    "\n",
    "b1 = np.array([[4, 1, 3],\n",
    "               [5, 8, 5]])\n",
    "\n",
    "print(f'{a1.shape}: a has {a1.shape[0]} rows and {a1.shape[1]} columns.')\n",
    "print(f'{b1.shape}: b has {b1.shape[0]} rows and {b1.shape[1]} columns.')\n",
    "print('Dimensions of result: (4x2)*(2x3)=(4x3)')"
   ]
  },
  {
   "cell_type": "markdown",
   "metadata": {
    "id": "LP2b396-n9wS"
   },
   "source": [
    "**Challenge**: Let's multiply `a1` with `b1`. Looking at the wikipedia example above, work out the values for c12 and c33 on paper. Then use the [`.matmul()`](https://numpy.org/doc/stable/reference/generated/numpy.matmul.html) function or the `@` operator to check your work. "
   ]
  },
  {
   "cell_type": "code",
   "execution_count": 6,
   "metadata": {
    "id": "a68V7SFpieg2"
   },
   "outputs": [],
   "source": []
  },
  {
   "cell_type": "code",
   "execution_count": 6,
   "metadata": {
    "id": "JvORXjfJiebH"
   },
   "outputs": [],
   "source": []
  },
  {
   "cell_type": "markdown",
   "metadata": {
    "id": "n8uiDqlb2pTO"
   },
   "source": [
    "# Manipulating Images as ndarrays\n"
   ]
  },
  {
   "cell_type": "code",
   "execution_count": 6,
   "metadata": {
    "id": "P1TS4QSqicaB"
   },
   "outputs": [],
   "source": []
  },
  {
   "cell_type": "code",
   "execution_count": 6,
   "metadata": {
    "id": "K-jub5UDicVw"
   },
   "outputs": [],
   "source": []
  },
  {
   "cell_type": "markdown",
   "metadata": {
    "id": "zCyCD3ia4J8A"
   },
   "source": [
    "**Challenge**: What is the data type of `img`? Also, what is the shape of `img` and how many dimensions does it have? What is the resolution of the image?"
   ]
  },
  {
   "cell_type": "code",
   "execution_count": 6,
   "metadata": {
    "id": "ElXYL8OZiZIu"
   },
   "outputs": [],
   "source": []
  },
  {
   "cell_type": "code",
   "execution_count": 6,
   "metadata": {
    "id": "xD7fwq2ViZWC"
   },
   "outputs": [],
   "source": []
  },
  {
   "cell_type": "code",
   "execution_count": 6,
   "metadata": {
    "id": "RvaHBCj8iZBp"
   },
   "outputs": [],
   "source": []
  },
  {
   "cell_type": "markdown",
   "metadata": {
    "id": "niXLlWOQ4Z8K"
   },
   "source": [
    "**Challenge**: Convert the image to black and white. The values in our `img` range from 0 to 255. \n",
    "* Divide all the values by 255 to convert them to sRGB, where all the values are between 0 and 1. \n",
    "* Next, multiply the sRGB array by the `grey_vals` to convert the image to grey scale. \n",
    "* Finally use Matplotlib's [`.imshow()`](https://matplotlib.org/3.1.1/api/_as_gen/matplotlib.pyplot.imshow.html) together with the colormap parameter set to gray `cmap=gray` to look at the results. "
   ]
  },
  {
   "cell_type": "code",
   "execution_count": 7,
   "metadata": {
    "id": "bkrNo4jI6e95"
   },
   "outputs": [],
   "source": [
    "grey_vals = np.array([0.2126, 0.7152, 0.0722])"
   ]
  },
  {
   "cell_type": "code",
   "execution_count": 7,
   "metadata": {
    "id": "xxsdG1eAiV_X"
   },
   "outputs": [],
   "source": []
  },
  {
   "cell_type": "code",
   "execution_count": 7,
   "metadata": {
    "id": "zaRdnvu3iVpt"
   },
   "outputs": [],
   "source": []
  },
  {
   "cell_type": "markdown",
   "metadata": {
    "id": "Gc32f7V77Myv"
   },
   "source": [
    "**Challenge**: Can you manipulate the images by doing some operations on the underlying ndarrays? See if you can change the values in the ndarray so that:\n",
    "\n",
    "1) You flip the grayscale image upside down\n",
    "\n",
    "<img src=https://i.imgur.com/r36CigD.png>\n",
    "\n",
    "2) Rotate the colour image\n",
    "\n",
    "<img src=https://i.imgur.com/IiNylco.png>\n",
    "\n",
    "3) Invert (i.e., solarize) the colour image. To do this you need to converting all the pixels to their \"opposite\" value, so black (0) becomes white (255).\n",
    "\n",
    "<img src=https://i.imgur.com/cfFbuex.png>"
   ]
  },
  {
   "cell_type": "markdown",
   "metadata": {
    "id": "O3B8TLSEXZtD"
   },
   "source": [
    "#### Challenge Solutions"
   ]
  },
  {
   "cell_type": "code",
   "execution_count": 7,
   "metadata": {
    "id": "vW0Aug3MiRgH"
   },
   "outputs": [],
   "source": []
  },
  {
   "cell_type": "code",
   "execution_count": null,
   "metadata": {
    "id": "_caHTOZ3jcRA"
   },
   "outputs": [],
   "source": []
  },
  {
   "cell_type": "markdown",
   "metadata": {
    "id": "4ymZ21DKbK9Q"
   },
   "source": [
    "# Use your Own Image!"
   ]
  },
  {
   "cell_type": "code",
   "execution_count": 8,
   "metadata": {
    "id": "CXZMwrxuV1q0"
   },
   "outputs": [],
   "source": [
    "file_name = 'yummy_macarons.jpg'"
   ]
  },
  {
   "cell_type": "code",
   "execution_count": null,
   "metadata": {
    "id": "kHkGg_T8jbdD"
   },
   "outputs": [],
   "source": []
  },
  {
   "cell_type": "markdown",
   "metadata": {
    "id": "hqoigjThfYJM"
   },
   "source": [
    "#### Use PIL to open "
   ]
  },
  {
   "cell_type": "code",
   "execution_count": 8,
   "metadata": {
    "id": "_1rCJzYQebOn"
   },
   "outputs": [],
   "source": []
  },
  {
   "cell_type": "code",
   "execution_count": null,
   "metadata": {
    "id": "30i9Xlu_jb0i"
   },
   "outputs": [],
   "source": []
  }
 ],
 "metadata": {
  "colab": {
   "name": "Computation with NumPy and N-Dimensional Arrays (start).ipynb",
   "provenance": [],
   "toc_visible": true
  },
  "kernelspec": {
   "display_name": "Python 3 (ipykernel)",
   "language": "python",
   "name": "python3"
  },
  "language_info": {
   "codemirror_mode": {
    "name": "ipython",
    "version": 3
   },
   "file_extension": ".py",
   "mimetype": "text/x-python",
   "name": "python",
   "nbconvert_exporter": "python",
   "pygments_lexer": "ipython3",
   "version": "3.11.5"
  }
 },
 "nbformat": 4,
 "nbformat_minor": 4
}
